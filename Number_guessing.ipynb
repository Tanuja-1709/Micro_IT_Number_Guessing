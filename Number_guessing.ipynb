{
  "nbformat": 4,
  "nbformat_minor": 0,
  "metadata": {
    "colab": {
      "provenance": [],
      "authorship_tag": "ABX9TyOSiNKdEAlKhXJ2OeErcd2Q",
      "include_colab_link": true
    },
    "kernelspec": {
      "name": "python3",
      "display_name": "Python 3"
    },
    "language_info": {
      "name": "python"
    }
  },
  "cells": [
    {
      "cell_type": "markdown",
      "metadata": {
        "id": "view-in-github",
        "colab_type": "text"
      },
      "source": [
        "<a href=\"https://colab.research.google.com/github/Tanuja-1709/Micro_IT_Number_Guessing/blob/main/Number_guessing.ipynb\" target=\"_parent\"><img src=\"https://colab.research.google.com/assets/colab-badge.svg\" alt=\"Open In Colab\"/></a>"
      ]
    },
    {
      "cell_type": "code",
      "execution_count": 6,
      "metadata": {
        "colab": {
          "base_uri": "https://localhost:8080/"
        },
        "id": "8TLkCLppFCGd",
        "outputId": "72e8ac1b-2a99-45be-ba4a-bf129a3ea9a0"
      },
      "outputs": [
        {
          "output_type": "stream",
          "name": "stdout",
          "text": [
            "Hello,,Whats your name:\n",
            "Tanuja\n",
            "Well,TanujaI am thinking of number between the range of(1,50)\n",
            "Enter Guess: 45\n",
            "Guess lower!\n",
            "Enter Guess: 23\n",
            "Guess lower!\n",
            "Enter Guess: 13\n",
            "Guess higher!\n",
            "Enter Guess: 14\n",
            "Guess higher!\n",
            "Enter Guess: 17\n",
            "Guess higher!\n",
            "Enter Guess: 20\n",
            "You Win\n"
          ]
        }
      ],
      "source": [
        "# Use the random module to help generate the random number\n",
        "import random\n",
        "\n",
        "print(\"Hello,,Whats your name:\")\n",
        "name=input(\"\")\n",
        "\n",
        "# randint() will generate a random integer between 1-100, assign it to 'number'\n",
        "my_number = random.randint(1,50)\n",
        "\n",
        "print(\"Well,\" + name +  \"I am thinking of number between the range of(1,50)\")\n",
        "\n",
        "for i in range(1,8):\n",
        "\n",
        "  # prompt the user to enter a guess, the input() function will return the\n",
        "  guess = int(input(\"Enter Guess: \"))\n",
        "\n",
        "  # if the user guesses too lower, tell them to guess higher, if they guess\n",
        "  # too high, tell them to guess lower, and if they get it correct tell\n",
        "  # them they've won\n",
        "  if (guess < my_number):\n",
        "    print(\"Guess higher!\")\n",
        "  elif (guess > my_number):\n",
        "    print(\"Guess lower!\")\n",
        "  else:\n",
        "    break\n",
        "if my_number==guess:\n",
        "    print(\"You Win\")\n",
        "else:\n",
        "    print(\"You loose the game.My number is\",my_number)"
      ]
    }
  ]
}